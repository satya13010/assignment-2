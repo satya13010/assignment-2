{
 "cells": [
  {
   "cell_type": "code",
   "execution_count": 6,
   "metadata": {},
   "outputs": [
    {
     "name": "stdout",
     "output_type": "stream",
     "text": [
      "[3]\n"
     ]
    }
   ],
   "source": [
    "\n",
    "def myfilter(func, num):\n",
    "    l=[]\n",
    "    for i in num:\n",
    "        if func(i):\n",
    "            l.append(i)\n",
    "    return l\n",
    "\n",
    "num=[2,3,1,31,5]\n",
    "\n",
    "cle=myfilter(lambda x:x%3==0, num)\n",
    "print(cle)"
   ]
  },
  {
   "cell_type": "code",
   "execution_count": 11,
   "metadata": {},
   "outputs": [
    {
     "name": "stdout",
     "output_type": "stream",
     "text": [
      "['A', 'C', 'A', 'D', 'G', 'I', 'L', 'D']\n"
     ]
    }
   ],
   "source": [
    "word = \"ACADGILD\"\n",
    "alphabet_list = [ x for x in word ]\n",
    "print (alphabet_list)\n"
   ]
  },
  {
   "cell_type": "code",
   "execution_count": 7,
   "metadata": {},
   "outputs": [
    {
     "name": "stdout",
     "output_type": "stream",
     "text": [
      "1491\n"
     ]
    }
   ],
   "source": [
    "def func(a,b):\n",
    "    return a+b\n",
    "\n",
    "def myreduce(func, my_list):\n",
    "    result = my_list[0]\n",
    "    for i in my_list[1:]:\n",
    "        result = func(result, i)\n",
    "    return result\n",
    "my_list=[5,4,13,12,132,1321,3,1]\n",
    "print(myreduce(func, my_list))"
   ]
  },
  {
   "cell_type": "code",
   "execution_count": 13,
   "metadata": {},
   "outputs": [
    {
     "name": "stdout",
     "output_type": "stream",
     "text": [
      "['x', 'xx', 'xxx', 'xxxx', 'y', 'yy', 'yyy', 'yyyy', 'z', 'zz', 'zzz', 'zzzz']\n"
     ]
    }
   ],
   "source": [
    "word = ['x','y','z']\n",
    "alphabet_list = [items*words  for words in word for items in range(1,5) ]\n",
    "print(alphabet_list)\n"
   ]
  },
  {
   "cell_type": "code",
   "execution_count": 15,
   "metadata": {},
   "outputs": [
    {
     "name": "stdout",
     "output_type": "stream",
     "text": [
      "['x', 'y', 'z', 'xx', 'yy', 'zz', 'xxx', 'yyy', 'zzz', 'xxxx', 'yyyy', 'zzzz']\n"
     ]
    }
   ],
   "source": [
    "word = ['x','y','z']\n",
    "alphabet_list = [items*words  for words in range(1,5) for items in word ]\n",
    "print(alphabet_list)\n"
   ]
  },
  {
   "cell_type": "code",
   "execution_count": 17,
   "metadata": {},
   "outputs": [
    {
     "name": "stdout",
     "output_type": "stream",
     "text": [
      "[[2], [3], [4], [3], [4], [5], [4], [5], [6]]\n"
     ]
    }
   ],
   "source": [
    "nums = [2],[3],[4],[3],[4],[5],[4],[5],[6]\n",
    "alphabet_list = [ x for x in nums ]\n",
    "print (alphabet_list)\n"
   ]
  },
  {
   "cell_type": "code",
   "execution_count": 19,
   "metadata": {},
   "outputs": [
    {
     "name": "stdout",
     "output_type": "stream",
     "text": [
      "[[2, 3, 4, 5], [3, 4, 5, 6], [4, 5, 6, 7], [5, 6, 7, 8]]\n"
     ]
    }
   ],
   "source": [
    "nums = [2,3,4,5]\n",
    "alphabet_list = [ [i+n for i in nums] for n in range(0,4)]\n",
    "print (alphabet_list)\n"
   ]
  },
  {
   "cell_type": "code",
   "execution_count": 21,
   "metadata": {},
   "outputs": [
    {
     "name": "stdout",
     "output_type": "stream",
     "text": [
      "[(1, 1), (2, 1), (3, 1), (1, 2), (2, 2), (3, 2), (1, 3), (2, 3), (3, 3)]\n"
     ]
    }
   ],
   "source": [
    "nums = [1,2,3]\n",
    "alphabet_list = [ (i,n) for n in range(1,4) for i in nums]\n",
    "print (alphabet_list)\n"
   ]
  },
  {
   "cell_type": "code",
   "execution_count": 27,
   "metadata": {},
   "outputs": [
    {
     "name": "stdin",
     "output_type": "stream",
     "text": [
      "Please input a list of words to evaluate:  satyam singh\n"
     ]
    },
    {
     "name": "stdout",
     "output_type": "stream",
     "text": [
      "The longest word is satyam with length 6\n"
     ]
    }
   ],
   "source": [
    "def main():\n",
    "    text = input(\"Please input a list of words to evaluate: \")\n",
    "\n",
    "    longest = 0\n",
    "\n",
    "    for words in text.split():\n",
    "        if len(words) > longest:\n",
    "            longest = len(words)\n",
    "            longest_word = words\n",
    "\n",
    "    print(\"The longest word is\", longest_word, \"with length\", len(longest_word))\n",
    "\n",
    "main() "
   ]
  },
  {
   "cell_type": "code",
   "execution_count": 8,
   "metadata": {},
   "outputs": [
    {
     "name": "stdin",
     "output_type": "stream",
     "text": [
      "enter a 35\n",
      "enter b 51\n",
      "enter c 65\n"
     ]
    },
    {
     "name": "stdout",
     "output_type": "stream",
     "text": [
      "242751.93966431878\n"
     ]
    }
   ],
   "source": [
    "a=input(\"enter a\")\n",
    "b=input(\"enter b\")\n",
    "c=input(\"enter c\")\n",
    "class triangle:\n",
    "    def __init__(self,a,b,c):\n",
    "        self.a=float(a)\n",
    "        self.b=float(b)\n",
    "        self.c=float(c)\n",
    "    def sub(self):\n",
    "        s=(self.a+self.b+self.c)/2\n",
    "        return(s*(s-self.a)*(s-self.b)*(s-self.c)**0.5)\n",
    "\n",
    "t=triangle(a,b,c)\n",
    "print(format(t.sub()))\n",
    "\n",
    "\n",
    "\n",
    "\n"
   ]
  },
  {
   "cell_type": "code",
   "execution_count": 1,
   "metadata": {},
   "outputs": [
    {
     "name": "stdout",
     "output_type": "stream",
     "text": [
      "['clear', 'and']\n"
     ]
    }
   ],
   "source": [
    "def filter_long_words(n, list1):\n",
    "    l=[]\n",
    "    list=list1.split(\" \")\n",
    "    for i in list:\n",
    "        if len(i)>n:\n",
    "            l.append(i)\n",
    "    return l\n",
    "\n",
    "\n",
    "print(filter_long_words(2, \"clear as me and i am\"))\n",
    "\n"
   ]
  },
  {
   "cell_type": "code",
   "execution_count": 3,
   "metadata": {},
   "outputs": [
    {
     "name": "stdin",
     "output_type": "stream",
     "text": [
      " satyam,singh\n"
     ]
    },
    {
     "name": "stdout",
     "output_type": "stream",
     "text": [
      "[6, 5]\n"
     ]
    }
   ],
   "source": [
    "\n",
    "def func(str):\n",
    "    l=[]\n",
    "    for i in list1:\n",
    "        l.append(len(i))\n",
    "    return l\n",
    "\n",
    "list1=input().split(\",\")\n",
    "\n",
    "print(func(list1))\n"
   ]
  },
  {
   "cell_type": "code",
   "execution_count": 4,
   "metadata": {},
   "outputs": [
    {
     "name": "stdin",
     "output_type": "stream",
     "text": [
      " d\n"
     ]
    },
    {
     "name": "stdout",
     "output_type": "stream",
     "text": [
      "False\n"
     ]
    }
   ],
   "source": [
    "vowel=\"a,e,i,o,u\"\n",
    "inputde=input()\n",
    "def func():\n",
    "    if inputde in vowel:\n",
    "        print(True)\n",
    "    else:\n",
    "        print(False)\n",
    "\n",
    "func()"
   ]
  }
 ],
 "metadata": {
  "kernelspec": {
   "display_name": "Python 3",
   "language": "python",
   "name": "python3"
  },
  "language_info": {
   "codemirror_mode": {
    "name": "ipython",
    "version": 3
   },
   "file_extension": ".py",
   "mimetype": "text/x-python",
   "name": "python",
   "nbconvert_exporter": "python",
   "pygments_lexer": "ipython3",
   "version": "3.8.2"
  }
 },
 "nbformat": 4,
 "nbformat_minor": 4
}
